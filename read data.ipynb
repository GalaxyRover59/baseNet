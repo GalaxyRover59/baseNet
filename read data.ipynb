{
 "cells": [
  {
   "cell_type": "code",
   "execution_count": 2,
   "metadata": {
    "collapsed": true
   },
   "outputs": [],
   "source": [
    "import pandas as pd"
   ]
  },
  {
   "cell_type": "code",
   "execution_count": 3,
   "outputs": [
    {
     "data": {
      "text/plain": "        struct_id                                          structure  natoms  \\\n0               1  {'@module': 'pymatgen.core.structure', '@class...       5   \n1               2  {'@module': 'pymatgen.core.structure', '@class...       4   \n2               3  {'@module': 'pymatgen.core.structure', '@class...       3   \n3               4  {'@module': 'pymatgen.core.structure', '@class...       4   \n4               5  {'@module': 'pymatgen.core.structure', '@class...       3   \n...           ...                                                ...     ...   \n133880     133881  {'@module': 'pymatgen.core.structure', '@class...      16   \n133881     133882  {'@module': 'pymatgen.core.structure', '@class...      16   \n133882     133883  {'@module': 'pymatgen.core.structure', '@class...      17   \n133883     133884  {'@module': 'pymatgen.core.structure', '@class...      18   \n133884     133885  {'@module': 'pymatgen.core.structure', '@class...      16   \n\n            energy                                            sites_Z  \\\n0       -40.478930                                    [6, 1, 1, 1, 1]   \n1       -56.525887                                       [7, 1, 1, 1]   \n2       -76.404702                                          [8, 1, 1]   \n3       -77.308427                                       [6, 6, 1, 1]   \n4       -93.411888                                          [6, 7, 1]   \n...            ...                                                ...   \n133880 -400.633868   [6, 6, 6, 6, 6, 8, 6, 6, 7, 1, 1, 1, 1, 1, 1, 1]   \n133881 -400.629713   [6, 7, 6, 6, 6, 6, 8, 6, 6, 1, 1, 1, 1, 1, 1, 1]   \n133882 -380.753918  [6, 7, 6, 6, 6, 6, 6, 6, 7, 1, 1, 1, 1, 1, 1, ...   \n133883 -364.720374  [6, 7, 6, 6, 6, 6, 6, 6, 6, 1, 1, 1, 1, 1, 1, ...   \n133884 -400.633052   [6, 7, 6, 6, 6, 8, 6, 6, 6, 1, 1, 1, 1, 1, 1, 1]   \n\n                                                 geometry  ref energy  \n0       [[-0.0126981359, 1.0858041578, 0.0080009958], ...  -17.172189  \n1       [[-0.0404260543, 1.0241077531, 0.0625637998], ...  -12.005860  \n2       [[-0.0343604951, 0.9775395708, 0.0076015923], ...   -9.240366  \n3       [[0.5995394918, 0.0, 1.0], [-0.5995394918, 0.0...  -16.716970  \n4       [[-0.0133239314, 1.1324657151, 0.0082758861], ...  -13.088194  \n...                                                   ...         ...  \n133880  [[1.2387316143, -0.5095880645, 1.1804370408], ...  -69.555413  \n133881  [[0.7295695565, -0.5677007277, -1.4352392147],...  -69.442350  \n133882  [[-1.181901877, 1.4150478018, 0.8762715211], [...  -72.290023  \n133883  [[-1.4356329845, 1.3632549748, 0.3109822505], ...  -77.821339  \n133884  [[-1.4098766039, 1.3373373609, 0.4099526107], ...  -69.533209  \n\n[133885 rows x 7 columns]",
      "text/html": "<div>\n<style scoped>\n    .dataframe tbody tr th:only-of-type {\n        vertical-align: middle;\n    }\n\n    .dataframe tbody tr th {\n        vertical-align: top;\n    }\n\n    .dataframe thead th {\n        text-align: right;\n    }\n</style>\n<table border=\"1\" class=\"dataframe\">\n  <thead>\n    <tr style=\"text-align: right;\">\n      <th></th>\n      <th>struct_id</th>\n      <th>structure</th>\n      <th>natoms</th>\n      <th>energy</th>\n      <th>sites_Z</th>\n      <th>geometry</th>\n      <th>ref energy</th>\n    </tr>\n  </thead>\n  <tbody>\n    <tr>\n      <th>0</th>\n      <td>1</td>\n      <td>{'@module': 'pymatgen.core.structure', '@class...</td>\n      <td>5</td>\n      <td>-40.478930</td>\n      <td>[6, 1, 1, 1, 1]</td>\n      <td>[[-0.0126981359, 1.0858041578, 0.0080009958], ...</td>\n      <td>-17.172189</td>\n    </tr>\n    <tr>\n      <th>1</th>\n      <td>2</td>\n      <td>{'@module': 'pymatgen.core.structure', '@class...</td>\n      <td>4</td>\n      <td>-56.525887</td>\n      <td>[7, 1, 1, 1]</td>\n      <td>[[-0.0404260543, 1.0241077531, 0.0625637998], ...</td>\n      <td>-12.005860</td>\n    </tr>\n    <tr>\n      <th>2</th>\n      <td>3</td>\n      <td>{'@module': 'pymatgen.core.structure', '@class...</td>\n      <td>3</td>\n      <td>-76.404702</td>\n      <td>[8, 1, 1]</td>\n      <td>[[-0.0343604951, 0.9775395708, 0.0076015923], ...</td>\n      <td>-9.240366</td>\n    </tr>\n    <tr>\n      <th>3</th>\n      <td>4</td>\n      <td>{'@module': 'pymatgen.core.structure', '@class...</td>\n      <td>4</td>\n      <td>-77.308427</td>\n      <td>[6, 6, 1, 1]</td>\n      <td>[[0.5995394918, 0.0, 1.0], [-0.5995394918, 0.0...</td>\n      <td>-16.716970</td>\n    </tr>\n    <tr>\n      <th>4</th>\n      <td>5</td>\n      <td>{'@module': 'pymatgen.core.structure', '@class...</td>\n      <td>3</td>\n      <td>-93.411888</td>\n      <td>[6, 7, 1]</td>\n      <td>[[-0.0133239314, 1.1324657151, 0.0082758861], ...</td>\n      <td>-13.088194</td>\n    </tr>\n    <tr>\n      <th>...</th>\n      <td>...</td>\n      <td>...</td>\n      <td>...</td>\n      <td>...</td>\n      <td>...</td>\n      <td>...</td>\n      <td>...</td>\n    </tr>\n    <tr>\n      <th>133880</th>\n      <td>133881</td>\n      <td>{'@module': 'pymatgen.core.structure', '@class...</td>\n      <td>16</td>\n      <td>-400.633868</td>\n      <td>[6, 6, 6, 6, 6, 8, 6, 6, 7, 1, 1, 1, 1, 1, 1, 1]</td>\n      <td>[[1.2387316143, -0.5095880645, 1.1804370408], ...</td>\n      <td>-69.555413</td>\n    </tr>\n    <tr>\n      <th>133881</th>\n      <td>133882</td>\n      <td>{'@module': 'pymatgen.core.structure', '@class...</td>\n      <td>16</td>\n      <td>-400.629713</td>\n      <td>[6, 7, 6, 6, 6, 6, 8, 6, 6, 1, 1, 1, 1, 1, 1, 1]</td>\n      <td>[[0.7295695565, -0.5677007277, -1.4352392147],...</td>\n      <td>-69.442350</td>\n    </tr>\n    <tr>\n      <th>133882</th>\n      <td>133883</td>\n      <td>{'@module': 'pymatgen.core.structure', '@class...</td>\n      <td>17</td>\n      <td>-380.753918</td>\n      <td>[6, 7, 6, 6, 6, 6, 6, 6, 7, 1, 1, 1, 1, 1, 1, ...</td>\n      <td>[[-1.181901877, 1.4150478018, 0.8762715211], [...</td>\n      <td>-72.290023</td>\n    </tr>\n    <tr>\n      <th>133883</th>\n      <td>133884</td>\n      <td>{'@module': 'pymatgen.core.structure', '@class...</td>\n      <td>18</td>\n      <td>-364.720374</td>\n      <td>[6, 7, 6, 6, 6, 6, 6, 6, 6, 1, 1, 1, 1, 1, 1, ...</td>\n      <td>[[-1.4356329845, 1.3632549748, 0.3109822505], ...</td>\n      <td>-77.821339</td>\n    </tr>\n    <tr>\n      <th>133884</th>\n      <td>133885</td>\n      <td>{'@module': 'pymatgen.core.structure', '@class...</td>\n      <td>16</td>\n      <td>-400.633052</td>\n      <td>[6, 7, 6, 6, 6, 8, 6, 6, 6, 1, 1, 1, 1, 1, 1, 1]</td>\n      <td>[[-1.4098766039, 1.3373373609, 0.4099526107], ...</td>\n      <td>-69.533209</td>\n    </tr>\n  </tbody>\n</table>\n<p>133885 rows × 7 columns</p>\n</div>"
     },
     "execution_count": 3,
     "metadata": {},
     "output_type": "execute_result"
    }
   ],
   "source": [
    "data = pd.read_csv('qm9.csv')\n",
    "data\n"
   ],
   "metadata": {
    "collapsed": false,
    "pycharm": {
     "name": "#%%\n"
    }
   }
  },
  {
   "cell_type": "code",
   "execution_count": 5,
   "outputs": [
    {
     "data": {
      "text/plain": "        struct_id                                          structure  \\\n113867     113868  {'@module': 'pymatgen.core.structure', '@class...   \n46704       46705  {'@module': 'pymatgen.core.structure', '@class...   \n34484       34485  {'@module': 'pymatgen.core.structure', '@class...   \n104674     104675  {'@module': 'pymatgen.core.structure', '@class...   \n121629     121630  {'@module': 'pymatgen.core.structure', '@class...   \n...           ...                                                ...   \n37109       37110  {'@module': 'pymatgen.core.structure', '@class...   \n23622       23623  {'@module': 'pymatgen.core.structure', '@class...   \n35297       35298  {'@module': 'pymatgen.core.structure', '@class...   \n23440       23441  {'@module': 'pymatgen.core.structure', '@class...   \n4067         4068  {'@module': 'pymatgen.core.structure', '@class...   \n\n            energy  \n113867 -424.187185  \n46704  -421.835595  \n34484  -348.716743  \n104674 -424.145300  \n121629 -441.533398  \n...            ...  \n37109  -364.720822  \n23622  -442.545613  \n35297  -379.598238  \n23440  -453.896946  \n4067   -400.933700  \n\n[128 rows x 3 columns]",
      "text/html": "<div>\n<style scoped>\n    .dataframe tbody tr th:only-of-type {\n        vertical-align: middle;\n    }\n\n    .dataframe tbody tr th {\n        vertical-align: top;\n    }\n\n    .dataframe thead th {\n        text-align: right;\n    }\n</style>\n<table border=\"1\" class=\"dataframe\">\n  <thead>\n    <tr style=\"text-align: right;\">\n      <th></th>\n      <th>struct_id</th>\n      <th>structure</th>\n      <th>energy</th>\n    </tr>\n  </thead>\n  <tbody>\n    <tr>\n      <th>113867</th>\n      <td>113868</td>\n      <td>{'@module': 'pymatgen.core.structure', '@class...</td>\n      <td>-424.187185</td>\n    </tr>\n    <tr>\n      <th>46704</th>\n      <td>46705</td>\n      <td>{'@module': 'pymatgen.core.structure', '@class...</td>\n      <td>-421.835595</td>\n    </tr>\n    <tr>\n      <th>34484</th>\n      <td>34485</td>\n      <td>{'@module': 'pymatgen.core.structure', '@class...</td>\n      <td>-348.716743</td>\n    </tr>\n    <tr>\n      <th>104674</th>\n      <td>104675</td>\n      <td>{'@module': 'pymatgen.core.structure', '@class...</td>\n      <td>-424.145300</td>\n    </tr>\n    <tr>\n      <th>121629</th>\n      <td>121630</td>\n      <td>{'@module': 'pymatgen.core.structure', '@class...</td>\n      <td>-441.533398</td>\n    </tr>\n    <tr>\n      <th>...</th>\n      <td>...</td>\n      <td>...</td>\n      <td>...</td>\n    </tr>\n    <tr>\n      <th>37109</th>\n      <td>37110</td>\n      <td>{'@module': 'pymatgen.core.structure', '@class...</td>\n      <td>-364.720822</td>\n    </tr>\n    <tr>\n      <th>23622</th>\n      <td>23623</td>\n      <td>{'@module': 'pymatgen.core.structure', '@class...</td>\n      <td>-442.545613</td>\n    </tr>\n    <tr>\n      <th>35297</th>\n      <td>35298</td>\n      <td>{'@module': 'pymatgen.core.structure', '@class...</td>\n      <td>-379.598238</td>\n    </tr>\n    <tr>\n      <th>23440</th>\n      <td>23441</td>\n      <td>{'@module': 'pymatgen.core.structure', '@class...</td>\n      <td>-453.896946</td>\n    </tr>\n    <tr>\n      <th>4067</th>\n      <td>4068</td>\n      <td>{'@module': 'pymatgen.core.structure', '@class...</td>\n      <td>-400.933700</td>\n    </tr>\n  </tbody>\n</table>\n<p>128 rows × 3 columns</p>\n</div>"
     },
     "execution_count": 5,
     "metadata": {},
     "output_type": "execute_result"
    }
   ],
   "source": [
    "test_data = data.drop(columns=['natoms', 'sites_Z', 'geometry', 'ref energy']).sample(128)\n",
    "test_data"
   ],
   "metadata": {
    "collapsed": false,
    "pycharm": {
     "name": "#%%\n"
    }
   }
  },
  {
   "cell_type": "code",
   "execution_count": 7,
   "outputs": [
    {
     "data": {
      "text/plain": "        struct_id                                          structure  \\\n623           624  {'@module': 'pymatgen.core.structure', '@class...   \n1027         1028  {'@module': 'pymatgen.core.structure', '@class...   \n3038         3039  {'@module': 'pymatgen.core.structure', '@class...   \n3175         3176  {'@module': 'pymatgen.core.structure', '@class...   \n3989         3990  {'@module': 'pymatgen.core.structure', '@class...   \n...           ...                                                ...   \n127069     127070  {'@module': 'pymatgen.core.structure', '@class...   \n128345     128346  {'@module': 'pymatgen.core.structure', '@class...   \n129529     129530  {'@module': 'pymatgen.core.structure', '@class...   \n131786     131787  {'@module': 'pymatgen.core.structure', '@class...   \n133493     133494  {'@module': 'pymatgen.core.structure', '@class...   \n\n            energy  \n623    -307.529289  \n1027   -359.350089  \n3038   -324.556404  \n3175   -345.632155  \n3989   -402.159485  \n...            ...  \n127069 -415.378890  \n128345 -432.865261  \n129529 -505.948830  \n131786 -475.012138  \n133493 -585.493751  \n\n[128 rows x 3 columns]",
      "text/html": "<div>\n<style scoped>\n    .dataframe tbody tr th:only-of-type {\n        vertical-align: middle;\n    }\n\n    .dataframe tbody tr th {\n        vertical-align: top;\n    }\n\n    .dataframe thead th {\n        text-align: right;\n    }\n</style>\n<table border=\"1\" class=\"dataframe\">\n  <thead>\n    <tr style=\"text-align: right;\">\n      <th></th>\n      <th>struct_id</th>\n      <th>structure</th>\n      <th>energy</th>\n    </tr>\n  </thead>\n  <tbody>\n    <tr>\n      <th>623</th>\n      <td>624</td>\n      <td>{'@module': 'pymatgen.core.structure', '@class...</td>\n      <td>-307.529289</td>\n    </tr>\n    <tr>\n      <th>1027</th>\n      <td>1028</td>\n      <td>{'@module': 'pymatgen.core.structure', '@class...</td>\n      <td>-359.350089</td>\n    </tr>\n    <tr>\n      <th>3038</th>\n      <td>3039</td>\n      <td>{'@module': 'pymatgen.core.structure', '@class...</td>\n      <td>-324.556404</td>\n    </tr>\n    <tr>\n      <th>3175</th>\n      <td>3176</td>\n      <td>{'@module': 'pymatgen.core.structure', '@class...</td>\n      <td>-345.632155</td>\n    </tr>\n    <tr>\n      <th>3989</th>\n      <td>3990</td>\n      <td>{'@module': 'pymatgen.core.structure', '@class...</td>\n      <td>-402.159485</td>\n    </tr>\n    <tr>\n      <th>...</th>\n      <td>...</td>\n      <td>...</td>\n      <td>...</td>\n    </tr>\n    <tr>\n      <th>127069</th>\n      <td>127070</td>\n      <td>{'@module': 'pymatgen.core.structure', '@class...</td>\n      <td>-415.378890</td>\n    </tr>\n    <tr>\n      <th>128345</th>\n      <td>128346</td>\n      <td>{'@module': 'pymatgen.core.structure', '@class...</td>\n      <td>-432.865261</td>\n    </tr>\n    <tr>\n      <th>129529</th>\n      <td>129530</td>\n      <td>{'@module': 'pymatgen.core.structure', '@class...</td>\n      <td>-505.948830</td>\n    </tr>\n    <tr>\n      <th>131786</th>\n      <td>131787</td>\n      <td>{'@module': 'pymatgen.core.structure', '@class...</td>\n      <td>-475.012138</td>\n    </tr>\n    <tr>\n      <th>133493</th>\n      <td>133494</td>\n      <td>{'@module': 'pymatgen.core.structure', '@class...</td>\n      <td>-585.493751</td>\n    </tr>\n  </tbody>\n</table>\n<p>128 rows × 3 columns</p>\n</div>"
     },
     "execution_count": 7,
     "metadata": {},
     "output_type": "execute_result"
    }
   ],
   "source": [
    "test_data.sort_index(inplace=True)\n",
    "test_data"
   ],
   "metadata": {
    "collapsed": false,
    "pycharm": {
     "name": "#%%\n"
    }
   }
  },
  {
   "cell_type": "code",
   "execution_count": 9,
   "outputs": [],
   "source": [
    "test_data.to_csv('qm9_sample.csv', index=False)"
   ],
   "metadata": {
    "collapsed": false,
    "pycharm": {
     "name": "#%%\n"
    }
   }
  }
 ],
 "metadata": {
  "kernelspec": {
   "name": "conda-env-dpenv-py",
   "language": "python",
   "display_name": "Python [conda env:dpenv] *"
  },
  "language_info": {
   "codemirror_mode": {
    "name": "ipython",
    "version": 2
   },
   "file_extension": ".py",
   "mimetype": "text/x-python",
   "name": "python",
   "nbconvert_exporter": "python",
   "pygments_lexer": "ipython2",
   "version": "2.7.6"
  }
 },
 "nbformat": 4,
 "nbformat_minor": 0
}