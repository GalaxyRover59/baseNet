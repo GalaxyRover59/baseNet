{
 "cells": [
  {
   "cell_type": "code",
   "execution_count": 1,
   "metadata": {},
   "outputs": [
    {
     "name": "stderr",
     "output_type": "stream",
     "text": [
      "/share/home/yfhuang/anaconda3/envs/matgl/lib/python3.10/site-packages/tqdm/auto.py:21: TqdmWarning: IProgress not found. Please update jupyter and ipywidgets. See https://ipywidgets.readthedocs.io/en/stable/user_install.html\n",
      "  from .autonotebook import tqdm as notebook_tqdm\n"
     ]
    }
   ],
   "source": [
    "import pandas as pd\n",
    "import numpy as np\n",
    "from pymatgen.core import Structure, Molecule\n",
    "from tqdm import tqdm\n",
    "\n",
    "import torch\n",
    "from torch import nn\n",
    "import dgl\n",
    "from dgl.data.utils import split_dataset\n",
    "\n",
    "from baseNet.layers import MLP\n",
    "from baseNet.models import MLPNet\n",
    "from baseNet.graph.data import myDataset, myDataLoader, collate_fn\n",
    "from baseNet.graph.converters import get_element_list, Molecule2Graph"
   ]
  },
  {
   "cell_type": "code",
   "execution_count": 2,
   "metadata": {},
   "outputs": [
    {
     "data": {
      "text/html": [
       "<div>\n",
       "<style scoped>\n",
       "    .dataframe tbody tr th:only-of-type {\n",
       "        vertical-align: middle;\n",
       "    }\n",
       "\n",
       "    .dataframe tbody tr th {\n",
       "        vertical-align: top;\n",
       "    }\n",
       "\n",
       "    .dataframe thead th {\n",
       "        text-align: right;\n",
       "    }\n",
       "</style>\n",
       "<table border=\"1\" class=\"dataframe\">\n",
       "  <thead>\n",
       "    <tr style=\"text-align: right;\">\n",
       "      <th></th>\n",
       "      <th>struct_id</th>\n",
       "      <th>structure</th>\n",
       "      <th>energy</th>\n",
       "    </tr>\n",
       "  </thead>\n",
       "  <tbody>\n",
       "    <tr>\n",
       "      <th>0</th>\n",
       "      <td>624</td>\n",
       "      <td>{'@module': 'pymatgen.core.structure', '@class...</td>\n",
       "      <td>-307.529289</td>\n",
       "    </tr>\n",
       "    <tr>\n",
       "      <th>1</th>\n",
       "      <td>1028</td>\n",
       "      <td>{'@module': 'pymatgen.core.structure', '@class...</td>\n",
       "      <td>-359.350089</td>\n",
       "    </tr>\n",
       "    <tr>\n",
       "      <th>2</th>\n",
       "      <td>3039</td>\n",
       "      <td>{'@module': 'pymatgen.core.structure', '@class...</td>\n",
       "      <td>-324.556404</td>\n",
       "    </tr>\n",
       "    <tr>\n",
       "      <th>3</th>\n",
       "      <td>3176</td>\n",
       "      <td>{'@module': 'pymatgen.core.structure', '@class...</td>\n",
       "      <td>-345.632155</td>\n",
       "    </tr>\n",
       "    <tr>\n",
       "      <th>4</th>\n",
       "      <td>3990</td>\n",
       "      <td>{'@module': 'pymatgen.core.structure', '@class...</td>\n",
       "      <td>-402.159485</td>\n",
       "    </tr>\n",
       "    <tr>\n",
       "      <th>...</th>\n",
       "      <td>...</td>\n",
       "      <td>...</td>\n",
       "      <td>...</td>\n",
       "    </tr>\n",
       "    <tr>\n",
       "      <th>123</th>\n",
       "      <td>127070</td>\n",
       "      <td>{'@module': 'pymatgen.core.structure', '@class...</td>\n",
       "      <td>-415.378890</td>\n",
       "    </tr>\n",
       "    <tr>\n",
       "      <th>124</th>\n",
       "      <td>128346</td>\n",
       "      <td>{'@module': 'pymatgen.core.structure', '@class...</td>\n",
       "      <td>-432.865261</td>\n",
       "    </tr>\n",
       "    <tr>\n",
       "      <th>125</th>\n",
       "      <td>129530</td>\n",
       "      <td>{'@module': 'pymatgen.core.structure', '@class...</td>\n",
       "      <td>-505.948830</td>\n",
       "    </tr>\n",
       "    <tr>\n",
       "      <th>126</th>\n",
       "      <td>131787</td>\n",
       "      <td>{'@module': 'pymatgen.core.structure', '@class...</td>\n",
       "      <td>-475.012138</td>\n",
       "    </tr>\n",
       "    <tr>\n",
       "      <th>127</th>\n",
       "      <td>133494</td>\n",
       "      <td>{'@module': 'pymatgen.core.structure', '@class...</td>\n",
       "      <td>-585.493751</td>\n",
       "    </tr>\n",
       "  </tbody>\n",
       "</table>\n",
       "<p>128 rows × 3 columns</p>\n",
       "</div>"
      ],
      "text/plain": [
       "     struct_id                                          structure      energy\n",
       "0          624  {'@module': 'pymatgen.core.structure', '@class... -307.529289\n",
       "1         1028  {'@module': 'pymatgen.core.structure', '@class... -359.350089\n",
       "2         3039  {'@module': 'pymatgen.core.structure', '@class... -324.556404\n",
       "3         3176  {'@module': 'pymatgen.core.structure', '@class... -345.632155\n",
       "4         3990  {'@module': 'pymatgen.core.structure', '@class... -402.159485\n",
       "..         ...                                                ...         ...\n",
       "123     127070  {'@module': 'pymatgen.core.structure', '@class... -415.378890\n",
       "124     128346  {'@module': 'pymatgen.core.structure', '@class... -432.865261\n",
       "125     129530  {'@module': 'pymatgen.core.structure', '@class... -505.948830\n",
       "126     131787  {'@module': 'pymatgen.core.structure', '@class... -475.012138\n",
       "127     133494  {'@module': 'pymatgen.core.structure', '@class... -585.493751\n",
       "\n",
       "[128 rows x 3 columns]"
      ]
     },
     "execution_count": 2,
     "metadata": {},
     "output_type": "execute_result"
    }
   ],
   "source": [
    "data = pd.read_csv(\"qm9_sample.csv\")\n",
    "data"
   ]
  },
  {
   "cell_type": "code",
   "execution_count": 3,
   "metadata": {},
   "outputs": [
    {
     "name": "stderr",
     "output_type": "stream",
     "text": [
      "100%|█████████████████████████████████████████████████████████████████| 128/128 [00:00<00:00, 1112.59it/s]\n"
     ]
    }
   ],
   "source": [
    "def load_dataset(dataframe) -> tuple[list[Structure], list[str], list[float]]:\n",
    "    structures = []\n",
    "    mol_ids = []\n",
    "    energy = []\n",
    "    stress = []\n",
    "\n",
    "    for i in tqdm(range(len(dataframe))):\n",
    "        mol = Molecule.from_dict(eval(dataframe[\"structure\"][i]))\n",
    "\n",
    "        eles = [mol[i].species_string for i in range(len(mol))]\n",
    "        coords = mol.cart_coords.astype('float32')\n",
    "        mol = Molecule(eles, coords)\n",
    "\n",
    "        structures.append(mol)\n",
    "        mol_ids.append(dataframe[\"struct_id\"][i])\n",
    "        energy.append(float(dataframe[\"energy\"][i]))\n",
    "        stress.append(np.zeros((3, 3)).tolist())\n",
    "\n",
    "    return structures, mol_ids, energy, stress\n",
    "\n",
    "\n",
    "molecules, mol_ids, energy, stress = load_dataset(data)\n",
    "\n",
    "elem_list = get_element_list(molecules)\n",
    "# setup a graph converter\n",
    "converter = Molecule2Graph(element_types=elem_list, cutoff=4.0)\n",
    "# convert the raw dataset into MEGNetDataset\n",
    "mp_dataset = myDataset(\n",
    "    structures=molecules,\n",
    "    labels={\n",
    "        \"energies\": energy,\n",
    "    },\n",
    "    converter=converter,\n",
    ")\n",
    "\n",
    "train_data, val_data, test_data = split_dataset(\n",
    "    mp_dataset,\n",
    "    frac_list=[0.9, 0.05, 0.05],\n",
    "    shuffle=True,\n",
    "    random_state=42,\n",
    ")\n",
    "\n",
    "train_loader, val_loader, test_loader = myDataLoader(\n",
    "    train_data=train_data,\n",
    "    val_data=val_data,\n",
    "    test_data=test_data,\n",
    "    collate_fn=collate_fn,\n",
    "    batch_size=16,\n",
    "    num_workers=0,\n",
    ")"
   ]
  },
  {
   "cell_type": "code",
   "execution_count": 4,
   "metadata": {},
   "outputs": [
    {
     "name": "stdout",
     "output_type": "stream",
     "text": [
      "Graph(num_nodes=283, num_edges=3468,\n",
      "      ndata_schemes={'frac_coords': Scheme(shape=(3,), dtype=torch.float32), 'node_type': Scheme(shape=(), dtype=torch.int32)}\n",
      "      edata_schemes={'bond_vec': Scheme(shape=(3,), dtype=torch.float32), 'bond_dist': Scheme(shape=(), dtype=torch.float32), 'pbc_offset': Scheme(shape=(3,), dtype=torch.float32)})\n"
     ]
    }
   ],
   "source": [
    "for batch in train_loader:\n",
    "    g, lat, state_attr, labels = batch\n",
    "    print(g)\n",
    "    break"
   ]
  },
  {
   "cell_type": "code",
   "execution_count": 5,
   "metadata": {},
   "outputs": [
    {
     "data": {
      "text/plain": [
       "MLPNet(\n",
       "  (MLPblock): ModuleList(\n",
       "    (0): MLP(128 → 1024, 1024 → 100)\n",
       "    (1): MLP(128 → 1024, 1024 → 100)\n",
       "    (2): MLP(128 → 1024, 1024 → 100)\n",
       "  )\n",
       "  (dropout): Dropout(p=0.05, inplace=False)\n",
       "  (init0): MLP(3 → 128)\n",
       "  (init1): MLP(100 → 128)\n",
       "  (out): MLP(128 → 1)\n",
       ")"
      ]
     },
     "execution_count": 5,
     "metadata": {},
     "output_type": "execute_result"
    }
   ],
   "source": [
    "model = MLPNet([128, 1024, 100], dropout=0.05)\n",
    "model"
   ]
  },
  {
   "cell_type": "code",
   "execution_count": 8,
   "metadata": {},
   "outputs": [
    {
     "data": {
      "text/plain": [
       "tensor([0.0974, 0.1096, 0.0912,  ..., 0.0810, 0.0926, 0.0926],\n",
       "       grad_fn=<SqueezeBackward0>)"
      ]
     },
     "execution_count": 8,
     "metadata": {},
     "output_type": "execute_result"
    }
   ],
   "source": [
    "out = model(g)\n",
    "out"
   ]
  },
  {
   "cell_type": "code",
   "execution_count": 9,
   "metadata": {},
   "outputs": [
    {
     "data": {
      "text/plain": [
       "3468"
      ]
     },
     "execution_count": 9,
     "metadata": {},
     "output_type": "execute_result"
    }
   ],
   "source": [
    "len(out)"
   ]
  },
  {
   "cell_type": "code",
   "execution_count": null,
   "metadata": {},
   "outputs": [],
   "source": []
  }
 ],
 "metadata": {
  "kernelspec": {
   "display_name": "Python [conda env:matgl]",
   "language": "python",
   "name": "conda-env-matgl-py"
  },
  "language_info": {
   "codemirror_mode": {
    "name": "ipython",
    "version": 3
   },
   "file_extension": ".py",
   "mimetype": "text/x-python",
   "name": "python",
   "nbconvert_exporter": "python",
   "pygments_lexer": "ipython3",
   "version": "3.10.0"
  }
 },
 "nbformat": 4,
 "nbformat_minor": 1
}
